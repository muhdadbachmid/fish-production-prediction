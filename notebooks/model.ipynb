{
 "cells": [
  {
   "cell_type": "markdown",
   "metadata": {},
   "source": [
    "1. Pemrosesan Data\n"
   ]
  },
  {
   "cell_type": "code",
   "execution_count": 1,
   "metadata": {},
   "outputs": [],
   "source": [
    "import pandas as pd\n",
    "import numpy as np\n",
    "import matplotlib.pyplot as plt\n",
    "import seaborn as sns\n",
    "\n",
    "from sklearn.model_selection import train_test_split, cross_val_score, KFold, GridSearchCV\n",
    "from sklearn.preprocessing import LabelEncoder, StandardScaler\n",
    "from sklearn.feature_selection import SelectKBest, f_regression\n",
    "\n",
    "from sklearn.linear_model import LinearRegression\n",
    "from sklearn.ensemble import RandomForestRegressor, GradientBoostingRegressor\n",
    "from sklearn.metrics import mean_squared_error, r2_score\n",
    "\n",
    "import warnings\n",
    "warnings.filterwarnings('ignore')\n",
    "\n",
    "# Set style untuk plots\n",
    "sns.set(style=\"whitegrid\")\n",
    "plt.rcParams['figure.figsize'] = (12, 6)\n"
   ]
  },
  {
   "cell_type": "markdown",
   "metadata": {},
   "source": [
    "Pembersihan Data\n",
    "\n",
    "Mengidentifikasi dan menangani missing values menggunakan imputasi median.\n",
    "Menghapus kolom yang tidak relevan.\n",
    "Encoding Kategorikal\n",
    "\n",
    "Kolom jenis_ikan dikonversi menjadi format numerik menggunakan Label Encoding.\n",
    "Normalisasi Data\n",
    "\n",
    "Data numerik dinormalisasi menggunakan StandardScaler untuk meningkatkan performa model."
   ]
  },
  {
   "cell_type": "code",
   "execution_count": 2,
   "metadata": {},
   "outputs": [
    {
     "name": "stdout",
     "output_type": "stream",
     "text": [
      "                   jenis_ikan  Januari  Februari  Maret   April    Mei  \\\n",
      "0        Albakora    Albacore  1301.00       0.0  0.000  7400.0  355.0   \n",
      "1              Albakora [ALB]     0.00       0.0  0.000     0.0    0.0   \n",
      "2              Albakora [ALB]   132.54     608.0  2.454   272.0   23.0   \n",
      "3  Alu-alu/ Manggilala/ Pucul     0.00       0.0  0.000     0.0    0.0   \n",
      "4  Alu-alu/ Manggilala/ Pucul     0.00     150.0  0.000     0.0    0.0   \n",
      "\n",
      "      Juni  Juli  Agustus  September  Oktober  November  Desember  Tahun  \\\n",
      "0  500.000   0.0      0.0        0.0      0.0     0.000     0.000   2018   \n",
      "1    0.000   0.0    193.0      528.0      0.0    29.000    24.000   2021   \n",
      "2   19.631  50.0     23.0      157.0    667.0     1.098     4.455   2022   \n",
      "3    0.000   0.0      0.0      150.0      0.0     0.000     1.000   2020   \n",
      "4  940.000   0.0      0.0        0.0      0.0     0.000     0.000   2021   \n",
      "\n",
      "   Total_Produksi_Tahunan  Growth_Rate  Produksi_Tahun_Lalu  \\\n",
      "0                0.000540          NaN                  NaN   \n",
      "1                0.000044          NaN                  NaN   \n",
      "2                0.000111     0.000129             0.000044   \n",
      "3                0.000008          NaN                  NaN   \n",
      "4                0.000062     0.000367             0.000008   \n",
      "\n",
      "   jenis_ikan_encoded  \n",
      "0                   0  \n",
      "1                   1  \n",
      "2                   1  \n",
      "3                   2  \n",
      "4                   2  \n",
      "<class 'pandas.core.frame.DataFrame'>\n",
      "RangeIndex: 163 entries, 0 to 162\n",
      "Data columns (total 18 columns):\n",
      " #   Column                  Non-Null Count  Dtype  \n",
      "---  ------                  --------------  -----  \n",
      " 0   jenis_ikan              163 non-null    object \n",
      " 1   Januari                 163 non-null    float64\n",
      " 2   Februari                163 non-null    float64\n",
      " 3   Maret                   163 non-null    float64\n",
      " 4   April                   163 non-null    float64\n",
      " 5   Mei                     163 non-null    float64\n",
      " 6   Juni                    163 non-null    float64\n",
      " 7   Juli                    163 non-null    float64\n",
      " 8   Agustus                 163 non-null    float64\n",
      " 9   September               163 non-null    float64\n",
      " 10  Oktober                 163 non-null    float64\n",
      " 11  November                163 non-null    float64\n",
      " 12  Desember                163 non-null    float64\n",
      " 13  Tahun                   163 non-null    int64  \n",
      " 14  Total_Produksi_Tahunan  163 non-null    float64\n",
      " 15  Growth_Rate             77 non-null     float64\n",
      " 16  Produksi_Tahun_Lalu     77 non-null     float64\n",
      " 17  jenis_ikan_encoded      163 non-null    int64  \n",
      "dtypes: float64(15), int64(2), object(1)\n",
      "memory usage: 23.1+ KB\n",
      "None\n",
      "            Januari      Februari         Maret         April           Mei  \\\n",
      "count  1.630000e+02  1.630000e+02  1.630000e+02  1.630000e+02  1.630000e+02   \n",
      "mean   6.458481e+04  6.289592e+04  9.188530e+04  8.056477e+04  8.089582e+04   \n",
      "std    2.600040e+05  2.513302e+05  3.642744e+05  3.171973e+05  3.198634e+05   \n",
      "min    0.000000e+00  0.000000e+00  0.000000e+00  0.000000e+00  0.000000e+00   \n",
      "25%    0.000000e+00  0.000000e+00  0.000000e+00  0.000000e+00  0.000000e+00   \n",
      "50%    5.441800e+01  4.705000e+01  6.315500e+01  2.382600e+01  5.000000e+01   \n",
      "75%    1.262000e+03  2.837500e+03  1.485500e+03  2.708500e+03  2.852000e+03   \n",
      "max    1.747501e+06  1.590755e+06  2.137195e+06  2.047954e+06  1.862234e+06   \n",
      "\n",
      "               Juni          Juli       Agustus     September       Oktober  \\\n",
      "count  1.630000e+02  1.630000e+02  1.630000e+02  1.630000e+02  1.630000e+02   \n",
      "mean   7.177932e+04  7.254595e+04  6.137443e+04  6.276126e+04  8.181883e+04   \n",
      "std    2.737882e+05  2.609206e+05  2.470775e+05  2.472891e+05  3.238881e+05   \n",
      "min    0.000000e+00  0.000000e+00  0.000000e+00  0.000000e+00  0.000000e+00   \n",
      "25%    0.000000e+00  0.000000e+00  0.000000e+00  0.000000e+00  0.000000e+00   \n",
      "50%    8.300000e+01  1.000000e+02  2.300000e+01  1.000000e+02  1.100000e+02   \n",
      "75%    4.727500e+03  2.660500e+03  1.640500e+03  3.333500e+03  4.213000e+03   \n",
      "max    1.853808e+06  1.376364e+06  1.549319e+06  1.446724e+06  2.406080e+06   \n",
      "\n",
      "           November      Desember        Tahun  Total_Produksi_Tahunan  \\\n",
      "count  1.630000e+02  1.630000e+02   163.000000              163.000000   \n",
      "mean   7.562123e+04  7.530241e+04  2019.938650                0.049896   \n",
      "std    2.805459e+05  2.863669e+05     1.359435                0.186970   \n",
      "min    0.000000e+00  0.000000e+00  2018.000000                0.000000   \n",
      "25%    0.000000e+00  0.000000e+00  2019.000000                0.000034   \n",
      "50%    2.200000e+02  5.160000e+01  2020.000000                0.000169   \n",
      "75%    3.621000e+03  3.368000e+03  2021.000000                0.002746   \n",
      "max    1.917502e+06  1.838434e+06  2022.000000                1.000000   \n",
      "\n",
      "       Growth_Rate  Produksi_Tahun_Lalu  jenis_ikan_encoded  \n",
      "count    77.000000            77.000000          163.000000  \n",
      "mean      0.036060             0.069795           44.742331  \n",
      "std       0.146829             0.218845           24.454944  \n",
      "min       0.000000             0.000000            0.000000  \n",
      "25%       0.000008             0.000042           25.000000  \n",
      "50%       0.000054             0.000356           47.000000  \n",
      "75%       0.000796             0.007395           64.500000  \n",
      "max       1.000000             1.000000           85.000000  \n",
      "jenis_ikan                 0\n",
      "Januari                    0\n",
      "Februari                   0\n",
      "Maret                      0\n",
      "April                      0\n",
      "Mei                        0\n",
      "Juni                       0\n",
      "Juli                       0\n",
      "Agustus                    0\n",
      "September                  0\n",
      "Oktober                    0\n",
      "November                   0\n",
      "Desember                   0\n",
      "Tahun                      0\n",
      "Total_Produksi_Tahunan     0\n",
      "Growth_Rate               86\n",
      "Produksi_Tahun_Lalu       86\n",
      "jenis_ikan_encoded         0\n",
      "dtype: int64\n"
     ]
    }
   ],
   "source": [
    "# Load dataset\n",
    "df = pd.read_csv('produksi2018_2022.csv')\n",
    "\n",
    "# Tampilkan beberapa baris pertama\n",
    "print(df.head())\n",
    "\n",
    "# Informasi dasar tentang dataset\n",
    "print(df.info())\n",
    "\n",
    "# Statistik deskriptif\n",
    "print(df.describe())\n",
    "\n",
    "# Cek missing values\n",
    "print(df.isnull().sum())\n"
   ]
  },
  {
   "cell_type": "code",
   "execution_count": 3,
   "metadata": {},
   "outputs": [
    {
     "name": "stdout",
     "output_type": "stream",
     "text": [
      "Kolom dengan missing values: ['Growth_Rate', 'Produksi_Tahun_Lalu']\n",
      "Missing values di kolom 'Growth_Rate' diimputasi dengan median: 5.438424961627485e-05\n",
      "Missing values di kolom 'Produksi_Tahun_Lalu' diimputasi dengan median: 0.0003556178436414\n",
      "False\n"
     ]
    }
   ],
   "source": [
    "# Identifikasi kolom dengan missing values\n",
    "missing_cols = df.columns[df.isnull().any()].tolist()\n",
    "print(f\"Kolom dengan missing values: {missing_cols}\")\n",
    "\n",
    "# Imputasi missing values menggunakan median (lebih robust terhadap outliers)\n",
    "for col in missing_cols:\n",
    "    median_val = df[col].median()\n",
    "    df[col].fillna(median_val, inplace=True)\n",
    "    print(f\"Missing values di kolom '{col}' diimputasi dengan median: {median_val}\")\n",
    "\n",
    "# Konfirmasi bahwa tidak ada lagi missing values\n",
    "print(df.isnull().sum().any())\n"
   ]
  },
  {
   "cell_type": "code",
   "execution_count": 4,
   "metadata": {},
   "outputs": [
    {
     "name": "stdout",
     "output_type": "stream",
     "text": [
      "                   jenis_ikan  jenis_ikan_encoded\n",
      "0        Albakora    Albacore                   0\n",
      "1              Albakora [ALB]                   1\n",
      "2              Albakora [ALB]                   1\n",
      "3  Alu-alu/ Manggilala/ Pucul                   2\n",
      "4  Alu-alu/ Manggilala/ Pucul                   2\n",
      "<class 'pandas.core.frame.DataFrame'>\n",
      "RangeIndex: 163 entries, 0 to 162\n",
      "Data columns (total 17 columns):\n",
      " #   Column                  Non-Null Count  Dtype  \n",
      "---  ------                  --------------  -----  \n",
      " 0   Januari                 163 non-null    float64\n",
      " 1   Februari                163 non-null    float64\n",
      " 2   Maret                   163 non-null    float64\n",
      " 3   April                   163 non-null    float64\n",
      " 4   Mei                     163 non-null    float64\n",
      " 5   Juni                    163 non-null    float64\n",
      " 6   Juli                    163 non-null    float64\n",
      " 7   Agustus                 163 non-null    float64\n",
      " 8   September               163 non-null    float64\n",
      " 9   Oktober                 163 non-null    float64\n",
      " 10  November                163 non-null    float64\n",
      " 11  Desember                163 non-null    float64\n",
      " 12  Tahun                   163 non-null    int64  \n",
      " 13  Total_Produksi_Tahunan  163 non-null    float64\n",
      " 14  Growth_Rate             163 non-null    float64\n",
      " 15  Produksi_Tahun_Lalu     163 non-null    float64\n",
      " 16  jenis_ikan_encoded      163 non-null    int32  \n",
      "dtypes: float64(15), int32(1), int64(1)\n",
      "memory usage: 21.1 KB\n",
      "None\n"
     ]
    }
   ],
   "source": [
    "# Encode kolom 'jenis_ikan' menggunakan Label Encoding\n",
    "label_encoder = LabelEncoder()\n",
    "df['jenis_ikan_encoded'] = label_encoder.fit_transform(df['jenis_ikan'])\n",
    "\n",
    "# Tampilkan beberapa baris pertama setelah encoding\n",
    "print(df[['jenis_ikan', 'jenis_ikan_encoded']].head())\n",
    "\n",
    "# Hapus kolom 'jenis_ikan' yang tidak lagi diperlukan\n",
    "df.drop('jenis_ikan', axis=1, inplace=True)\n",
    "\n",
    "# Lihat info dataset setelah encoding\n",
    "print(df.info())\n"
   ]
  },
  {
   "cell_type": "markdown",
   "metadata": {},
   "source": [
    "2. Pemilihan Fitur\n"
   ]
  },
  {
   "cell_type": "markdown",
   "metadata": {},
   "source": [
    "Digunakan metode SelectKBest dengan skor f_regression untuk memilih fitur yang paling berpengaruh terhadap Total_Produksi_Tahunan.\n",
    "\n",
    "Setelah seleksi fitur, variabel prediktor yang digunakan adalah jumlah produksi bulanan, Tahun, Growth_Rate, Produksi_Tahun_Lalu, dan jenis_ikan_encoded."
   ]
  },
  {
   "cell_type": "code",
   "execution_count": 5,
   "metadata": {},
   "outputs": [
    {
     "name": "stdout",
     "output_type": "stream",
     "text": [
      "    Januari  Februari     Maret     April       Mei      Juni      Juli  \\\n",
      "0 -0.244146 -0.251023 -0.253019 -0.231371 -0.252574 -0.261147 -0.278895   \n",
      "1 -0.249165 -0.251023 -0.253019 -0.254772 -0.253687 -0.262979 -0.278895   \n",
      "2 -0.248653 -0.248597 -0.253013 -0.253912 -0.253615 -0.262907 -0.278703   \n",
      "3 -0.249165 -0.251023 -0.253019 -0.254772 -0.253687 -0.262979 -0.278895   \n",
      "4 -0.249165 -0.250425 -0.253019 -0.254772 -0.253687 -0.259535 -0.278895   \n",
      "\n",
      "    Agustus  September   Oktober  November  Desember     Tahun  \\\n",
      "0 -0.249167  -0.254579 -0.253393 -0.270381 -0.263768 -1.430465   \n",
      "1 -0.248383  -0.252437 -0.253393 -0.270277 -0.263684  0.783134   \n",
      "2 -0.249074  -0.253942 -0.251327 -0.270377 -0.263752  1.521001   \n",
      "3 -0.249167  -0.253971 -0.253393 -0.270381 -0.263765  0.045268   \n",
      "4 -0.249167  -0.254579 -0.253393 -0.270381 -0.263768  0.783134   \n",
      "\n",
      "   Total_Produksi_Tahunan  Growth_Rate  Produksi_Tahun_Lalu  \\\n",
      "0               -0.264787    -0.166987            -0.213833   \n",
      "1               -0.267452    -0.166987            -0.213833   \n",
      "2               -0.267092    -0.166258            -0.215867   \n",
      "3               -0.267641    -0.166987            -0.213833   \n",
      "4               -0.267356    -0.163920            -0.216097   \n",
      "\n",
      "   jenis_ikan_encoded  \n",
      "0           -1.835220  \n",
      "1           -1.794203  \n",
      "2           -1.794203  \n",
      "3           -1.753185  \n",
      "4           -1.753185  \n",
      "            Januari      Februari         Maret         April           Mei  \\\n",
      "count  1.630000e+02  1.630000e+02  1.630000e+02  1.630000e+02  1.630000e+02   \n",
      "mean  -2.452026e-17  5.448947e-18 -2.724474e-17 -5.448947e-18  5.448947e-18   \n",
      "std    1.003082e+00  1.003082e+00  1.003082e+00  1.003082e+00  1.003082e+00   \n",
      "min   -2.491648e-01 -2.510234e-01 -2.530193e-01 -2.547722e-01 -2.536868e-01   \n",
      "25%   -2.491648e-01 -2.510234e-01 -2.530193e-01 -2.547722e-01 -2.536868e-01   \n",
      "50%   -2.489549e-01 -2.508356e-01 -2.528454e-01 -2.546969e-01 -2.535300e-01   \n",
      "75%   -2.442961e-01 -2.396986e-01 -2.489288e-01 -2.462070e-01 -2.447430e-01   \n",
      "max    6.492603e+00  6.097825e+00  5.632053e+00  6.221529e+00  5.586222e+00   \n",
      "\n",
      "               Juni          Juli       Agustus     September       Oktober  \\\n",
      "count  1.630000e+02  1.630000e+02  1.630000e+02  1.630000e+02  1.630000e+02   \n",
      "mean  -3.814263e-17  1.634684e-17 -5.448947e-18  3.269368e-17  4.359158e-17   \n",
      "std    1.003082e+00  1.003082e+00  1.003082e+00  1.003082e+00  1.003082e+00   \n",
      "min   -2.629789e-01 -2.788952e-01 -2.491670e-01 -2.545792e-01 -2.533929e-01   \n",
      "25%   -2.629789e-01 -2.788952e-01 -2.491670e-01 -2.545792e-01 -2.533929e-01   \n",
      "50%   -2.626748e-01 -2.785108e-01 -2.490737e-01 -2.541736e-01 -2.530523e-01   \n",
      "75%   -2.456587e-01 -2.686672e-01 -2.425070e-01 -2.410575e-01 -2.403453e-01   \n",
      "max    6.528843e+00  5.012390e+00  6.040736e+00  5.613784e+00  7.198238e+00   \n",
      "\n",
      "           November      Desember         Tahun  Total_Produksi_Tahunan  \\\n",
      "count  1.630000e+02  1.630000e+02  1.630000e+02            1.630000e+02   \n",
      "mean  -2.179579e-17 -1.634684e-17 -3.497952e-14           -5.448947e-17   \n",
      "std    1.003082e+00  1.003082e+00  1.003082e+00            1.003082e+00   \n",
      "min   -2.703809e-01 -2.637681e-01 -1.430465e+00           -2.676866e-01   \n",
      "25%   -2.703809e-01 -2.637681e-01 -6.925985e-01           -2.675049e-01   \n",
      "50%   -2.695943e-01 -2.635874e-01  4.526787e-02           -2.667783e-01   \n",
      "75%   -2.574342e-01 -2.519707e-01  7.831342e-01           -2.529542e-01   \n",
      "max    6.585577e+00  6.175870e+00  1.521001e+00            5.097240e+00   \n",
      "\n",
      "        Growth_Rate  Produksi_Tahun_Lalu  jenis_ikan_encoded  \n",
      "count  1.630000e+02         1.630000e+02          163.000000  \n",
      "mean  -4.767829e-17         2.724474e-17            0.000000  \n",
      "std    1.003082e+00         1.003082e+00            1.003082  \n",
      "min   -1.675214e-01        -2.161512e-01           -1.835220  \n",
      "25%   -1.669874e-01        -2.138330e-01           -0.809782  \n",
      "50%   -1.669874e-01        -2.138330e-01            0.092604  \n",
      "75%   -1.669874e-01        -2.138330e-01            0.810411  \n",
      "max    9.650067e+00         6.302647e+00            1.651271  \n"
     ]
    }
   ],
   "source": [
    "# Pilih kolom numerik untuk scaling\n",
    "numerical_cols = df.select_dtypes(include=np.number).columns.tolist()\n",
    "\n",
    "# Inisialisasi StandardScaler\n",
    "scaler = StandardScaler()\n",
    "\n",
    "# Fit dan transform data numerik\n",
    "df[numerical_cols] = scaler.fit_transform(df[numerical_cols])\n",
    "\n",
    "# Tampilkan beberapa baris pertama setelah scaling\n",
    "print(df.head())\n",
    "\n",
    "# Statistik deskriptif setelah scaling\n",
    "print(df.describe())"
   ]
  },
  {
   "cell_type": "code",
   "execution_count": 6,
   "metadata": {},
   "outputs": [
    {
     "data": {
      "image/png": "[encoded data removed]",
      "text/plain": [
       "<Figure size 1200x600 with 1 Axes>"
      ]
     },
     "metadata": {},
     "output_type": "display_data"
    },
    {
     "name": "stdout",
     "output_type": "stream",
     "text": [
      "Fitur yang dipilih: Index(['Januari', 'Februari', 'Maret', 'April', 'Mei', 'Juni', 'Juli',\n",
      "       'Agustus', 'September', 'Oktober', 'November', 'Desember', 'Tahun',\n",
      "       'Growth_Rate', 'Produksi_Tahun_Lalu'],\n",
      "      dtype='object')\n",
      "<class 'pandas.core.frame.DataFrame'>\n",
      "RangeIndex: 163 entries, 0 to 162\n",
      "Data columns (total 15 columns):\n",
      " #   Column               Non-Null Count  Dtype  \n",
      "---  ------               --------------  -----  \n",
      " 0   Januari              163 non-null    float64\n",
      " 1   Februari             163 non-null    float64\n",
      " 2   Maret                163 non-null    float64\n",
      " 3   April                163 non-null    float64\n",
      " 4   Mei                  163 non-null    float64\n",
      " 5   Juni                 163 non-null    float64\n",
      " 6   Juli                 163 non-null    float64\n",
      " 7   Agustus              163 non-null    float64\n",
      " 8   September            163 non-null    float64\n",
      " 9   Oktober              163 non-null    float64\n",
      " 10  November             163 non-null    float64\n",
      " 11  Desember             163 non-null    float64\n",
      " 12  Tahun                163 non-null    float64\n",
      " 13  Growth_Rate          163 non-null    float64\n",
      " 14  Produksi_Tahun_Lalu  163 non-null    float64\n",
      "dtypes: float64(15)\n",
      "memory usage: 19.2 KB\n",
      "None\n"
     ]
    }
   ],
   "source": [
    "# Definisikan fitur dan target\n",
    "X = df.drop('Total_Produksi_Tahunan', axis=1)\n",
    "y = df['Total_Produksi_Tahunan']\n",
    "\n",
    "# Pilih fitur terbaik menggunakan SelectKBest\n",
    "selector = SelectKBest(score_func=f_regression, k='all')\n",
    "selector.fit(X, y)\n",
    "\n",
    "# Dapatkan skor setiap fitur\n",
    "scores = -np.log10(selector.pvalues_)\n",
    "\n",
    "# Plot skor fitur\n",
    "plt.bar(X.columns, scores)\n",
    "plt.xticks(rotation=90)\n",
    "plt.xlabel('Fitur')\n",
    "plt.ylabel('-log10(p-value)')\n",
    "plt.title('Skor Fitur')\n",
    "plt.show()\n",
    "\n",
    "# Pilih fitur yang akan digunakan (misalnya, yang memiliki skor di atas ambang batas tertentu)\n",
    "selected_features = X.columns[selector.scores_ > 1]  # Ubah ambang batas sesuai kebutuhan\n",
    "X = X[selected_features]\n",
    "\n",
    "# Tampilkan fitur yang dipilih\n",
    "print(f\"Fitur yang dipilih: {selected_features}\")\n",
    "\n",
    "# Info dataset setelah feature selection\n",
    "print(X.info())\n"
   ]
  },
  {
   "cell_type": "markdown",
   "metadata": {},
   "source": [
    "3. Pembagian Data\n"
   ]
  },
  {
   "cell_type": "markdown",
   "metadata": {},
   "source": [
    "Dataset dibagi menjadi 80% data latih dan 20% data uji menggunakan train_test_split().\n",
    "\n"
   ]
  },
  {
   "cell_type": "code",
   "execution_count": 7,
   "metadata": {},
   "outputs": [],
   "source": [
    "X = df.drop(columns=['Total_Produksi_Tahunan'])\n",
    "y = df['Total_Produksi_Tahunan']\n",
    "\n",
    "X_train, X_test, y_train, y_test = train_test_split(X, y, test_size=0.2, random_state=42)\n"
   ]
  },
  {
   "cell_type": "markdown",
   "metadata": {},
   "source": [
    "4. Pembangunan Model\n"
   ]
  },
  {
   "cell_type": "code",
   "execution_count": 8,
   "metadata": {},
   "outputs": [],
   "source": [
    "# Inisialisasi model-model yang akan digunakan\n",
    "models = {\n",
    "    'Linear Regression': LinearRegression(),\n",
    "    'Random Forest Regressor': RandomForestRegressor(random_state=42),\n",
    "    'Gradient Boosting Regressor': GradientBoostingRegressor(random_state=42)\n",
    "}\n"
   ]
  },
  {
   "cell_type": "markdown",
   "metadata": {},
   "source": [
    "Tiga model regresi diuji untuk menentukan model terbaik:\n",
    "\n",
    "Linear Regression\n",
    "Random Forest Regressor\n",
    "Gradient Boosting Regressor"
   ]
  },
  {
   "cell_type": "markdown",
   "metadata": {},
   "source": [
    "a. Model Linear Regression"
   ]
  },
  {
   "cell_type": "code",
   "execution_count": 9,
   "metadata": {},
   "outputs": [
    {
     "name": "stdout",
     "output_type": "stream",
     "text": [
      "Linear Regression - R²: 1.0, MSE: 2.7745778430409414e-30\n"
     ]
    }
   ],
   "source": [
    "lr_model = LinearRegression()\n",
    "lr_model.fit(X_train, y_train)\n",
    "y_pred_lr = lr_model.predict(X_test)\n",
    "\n",
    "r2_lr = r2_score(y_test, y_pred_lr)\n",
    "mse_lr = mean_squared_error(y_test, y_pred_lr)\n",
    "print(f\"Linear Regression - R²: {r2_lr}, MSE: {mse_lr}\")\n"
   ]
  },
  {
   "cell_type": "markdown",
   "metadata": {},
   "source": [
    "b. Model Random Forest"
   ]
  },
  {
   "cell_type": "code",
   "execution_count": 10,
   "metadata": {},
   "outputs": [
    {
     "name": "stdout",
     "output_type": "stream",
     "text": [
      "Random Forest - R²: 0.9638022400957997, MSE: 0.07832356913435308\n"
     ]
    }
   ],
   "source": [
    "rf_model = RandomForestRegressor(n_estimators=100, random_state=42)\n",
    "rf_model.fit(X_train, y_train)\n",
    "y_pred_rf = rf_model.predict(X_test)\n",
    "\n",
    "r2_rf = r2_score(y_test, y_pred_rf)\n",
    "mse_rf = mean_squared_error(y_test, y_pred_rf)\n",
    "print(f\"Random Forest - R²: {r2_rf}, MSE: {mse_rf}\")\n"
   ]
  },
  {
   "cell_type": "markdown",
   "metadata": {},
   "source": [
    "c. Model Gradient Boosting"
   ]
  },
  {
   "cell_type": "code",
   "execution_count": 11,
   "metadata": {},
   "outputs": [
    {
     "name": "stdout",
     "output_type": "stream",
     "text": [
      "Gradient Boosting - R²: 0.988956968003102, MSE: 0.02389456370645612\n"
     ]
    }
   ],
   "source": [
    "gb_model = GradientBoostingRegressor(n_estimators=100, learning_rate=0.1, random_state=42)\n",
    "gb_model.fit(X_train, y_train)\n",
    "y_pred_gb = gb_model.predict(X_test)\n",
    "\n",
    "r2_gb = r2_score(y_test, y_pred_gb)\n",
    "mse_gb = mean_squared_error(y_test, y_pred_gb)\n",
    "print(f\"Gradient Boosting - R²: {r2_gb}, MSE: {mse_gb}\")\n"
   ]
  },
  {
   "cell_type": "markdown",
   "metadata": {},
   "source": [
    "Hyperparameter Tuning"
   ]
  },
  {
   "cell_type": "code",
   "execution_count": 12,
   "metadata": {},
   "outputs": [
    {
     "name": "stdout",
     "output_type": "stream",
     "text": [
      "Best Random Forest:\n",
      "  Params: {'max_depth': 20, 'min_samples_leaf': 1, 'min_samples_split': 2, 'n_estimators': 200}\n",
      "  RMSE: 0.2713, R²: 0.9660\n",
      "\n",
      "Best Gradient Boosting:\n",
      "  Params: {'learning_rate': 0.1, 'max_depth': 3, 'n_estimators': 200, 'subsample': 1.0}\n",
      "  RMSE: 0.1873, R²: 0.9838\n"
     ]
    }
   ],
   "source": [
    "import numpy as np\n",
    "import pandas as pd\n",
    "import matplotlib.pyplot as plt\n",
    "from sklearn.model_selection import train_test_split, GridSearchCV\n",
    "from sklearn.linear_model import LinearRegression\n",
    "from sklearn.ensemble import RandomForestRegressor, GradientBoostingRegressor\n",
    "from sklearn.metrics import mean_squared_error, r2_score\n",
    "from sklearn.feature_selection import SelectKBest, f_regression\n",
    "\n",
    "# Definisikan fitur dan target\n",
    "X = df.drop('Total_Produksi_Tahunan', axis=1)\n",
    "y = df['Total_Produksi_Tahunan']\n",
    "\n",
    "# Pilih fitur terbaik menggunakan SelectKBest\n",
    "selector = SelectKBest(score_func=f_regression, k='all')\n",
    "selector.fit(X, y)\n",
    "\n",
    "# Pilih fitur berdasarkan ambang batas\n",
    "selected_features = X.columns[selector.scores_ > 1]  # Sesuaikan threshold jika perlu\n",
    "X = X[selected_features]\n",
    "\n",
    "# Split data\n",
    "X_train, X_test, y_train, y_test = train_test_split(X, y, test_size=0.2, random_state=42)\n",
    "\n",
    "# Hyperparameter tuning untuk Random Forest\n",
    "rf_params = {\n",
    "    'n_estimators': [50, 100, 200],\n",
    "    'max_depth': [None, 10, 20, 30],\n",
    "    'min_samples_split': [2, 5, 10],\n",
    "    'min_samples_leaf': [1, 2, 4]\n",
    "}\n",
    "\n",
    "rf_grid = GridSearchCV(RandomForestRegressor(random_state=42), rf_params, cv=5, scoring='neg_mean_squared_error', n_jobs=-1)\n",
    "rf_grid.fit(X_train, y_train)\n",
    "\n",
    "# Hyperparameter tuning untuk Gradient Boosting\n",
    "gb_params = {\n",
    "    'n_estimators': [50, 100, 200],\n",
    "    'learning_rate': [0.01, 0.1, 0.2],\n",
    "    'max_depth': [3, 5, 10],\n",
    "    'subsample': [0.8, 1.0]\n",
    "}\n",
    "\n",
    "gb_grid = GridSearchCV(GradientBoostingRegressor(random_state=42), gb_params, cv=5, scoring='neg_mean_squared_error', n_jobs=-1)\n",
    "gb_grid.fit(X_train, y_train)\n",
    "\n",
    "# Dapatkan model terbaik\n",
    "best_rf = rf_grid.best_estimator_\n",
    "best_gb = gb_grid.best_estimator_\n",
    "\n",
    "# Prediksi menggunakan model terbaik\n",
    "y_pred_rf = best_rf.predict(X_test)\n",
    "y_pred_gb = best_gb.predict(X_test)\n",
    "\n",
    "# Evaluasi model terbaik\n",
    "rmse_rf = np.sqrt(mean_squared_error(y_test, y_pred_rf))\n",
    "r2_rf = r2_score(y_test, y_pred_rf)\n",
    "\n",
    "rmse_gb = np.sqrt(mean_squared_error(y_test, y_pred_gb))\n",
    "r2_gb = r2_score(y_test, y_pred_gb)\n",
    "\n",
    "# Tampilkan hasil\n",
    "print(\"Best Random Forest:\")\n",
    "print(f\"  Params: {rf_grid.best_params_}\")\n",
    "print(f\"  RMSE: {rmse_rf:.4f}, R²: {r2_rf:.4f}\")\n",
    "\n",
    "print(\"\\nBest Gradient Boosting:\")\n",
    "print(f\"  Params: {gb_grid.best_params_}\")\n",
    "print(f\"  RMSE: {rmse_gb:.4f}, R²: {r2_gb:.4f}\")\n"
   ]
  },
  {
   "cell_type": "markdown",
   "metadata": {},
   "source": [
    "Hasil Hyperparameter Tuning menunjukkan bahwa model Gradient Boosting Regressor (GBR) memberikan performa yang lebih baik dibandingkan Random Forest Regressor (RFR) berdasarkan metrik evaluasi Root Mean Squared Error (RMSE) dan R² Score.\n",
    "\n"
   ]
  },
  {
   "cell_type": "markdown",
   "metadata": {},
   "source": [
    "1. Perbandingan Performa Model\n"
   ]
  },
  {
   "cell_type": "markdown",
   "metadata": {},
   "source": [
    "RMSE (Root Mean Squared Error):\n",
    "\n",
    "RMSE yang lebih rendah menunjukkan bahwa model memiliki kesalahan prediksi lebih kecil.\n",
    "Gradient Boosting memiliki RMSE lebih kecil (0.1873) dibandingkan Random Forest (0.2713), menunjukkan bahwa model ini lebih akurat dalam memprediksi.\n",
    "\n",
    "R² Score:\n",
    "\n",
    "R² mengukur seberapa baik model menjelaskan variasi dalam data, dengan nilai 1.0 sebagai yang terbaik.\n",
    "Gradient Boosting memiliki R² lebih tinggi (0.9838) dibandingkan Random Forest (0.9660), menunjukkan bahwa model ini lebih mampu menjelaskan variasi dalam dataset."
   ]
  },
  {
   "cell_type": "markdown",
   "metadata": {},
   "source": [
    "2. Analisis Hyperparameter yang Dipilih\n"
   ]
  },
  {
   "cell_type": "markdown",
   "metadata": {},
   "source": [
    "Random Forest Regressor:\n"
   ]
  },
  {
   "cell_type": "markdown",
   "metadata": {},
   "source": [
    "max_depth = 20 → Model lebih kompleks dengan kedalaman lebih besar, memungkinkan pemisahan lebih rinci dalam data.\n",
    "min_samples_leaf = 1 → Setiap daun hanya memiliki satu sampel minimum, meningkatkan fleksibilitas model tetapi berpotensi menyebabkan overfitting.\n",
    "min_samples_split = 2 → Node akan terus membelah jika memiliki setidaknya 2 sampel, yang merupakan default.\n",
    "n_estimators = 200 → Model menggunakan 200 pohon, lebih tinggi dari default (100), meningkatkan stabilitas prediksi."
   ]
  },
  {
   "cell_type": "markdown",
   "metadata": {},
   "source": [
    "Implikasi:\n",
    "\n",
    "Kelebihan: Model memiliki kompleksitas tinggi, dapat menangkap pola yang lebih rumit.\n",
    "\n",
    "Kekurangan: Potensi overfitting karena kedalaman tinggi dan daun minimum kecil."
   ]
  },
  {
   "cell_type": "markdown",
   "metadata": {},
   "source": [
    "Gradient Boosting Regressor:"
   ]
  },
  {
   "cell_type": "markdown",
   "metadata": {},
   "source": [
    "learning_rate = 0.1 → Kecepatan pembelajaran yang umum digunakan, memberikan keseimbangan antara kecepatan dan akurasi.\n",
    "max_depth = 3 → Kedalaman kecil, membuat model lebih sederhana, mengurangi risiko overfitting.\n",
    "n_estimators = 200 → Lebih banyak iterasi boosting, meningkatkan akurasi prediksi secara bertahap.\n",
    "subsample = 1.0 → Menggunakan 100% data dalam setiap iterasi boosting, menghasilkan model yang lebih stabil."
   ]
  },
  {
   "cell_type": "markdown",
   "metadata": {},
   "source": [
    "Implikasi:"
   ]
  },
  {
   "cell_type": "markdown",
   "metadata": {},
   "source": [
    "Kelebihan:\n",
    "Model lebih tahan terhadap overfitting dengan kedalaman yang lebih rendah.\n",
    "Learning rate yang optimal menjaga keseimbangan antara kecepatan dan kinerja model.\n",
    "Subsampling penuh membantu model belajar dari keseluruhan dataset tanpa kehilangan informasi penting.\n",
    "\n",
    "Kekurangan:\n",
    "Bisa lebih lambat dibandingkan Random Forest karena proses boosting bertahap."
   ]
  },
  {
   "cell_type": "markdown",
   "metadata": {},
   "source": [
    "Kesimpulan:\n",
    "Gradient Boosting menggunakan kedalaman lebih kecil dan learning rate yang sesuai, sehingga lebih stabil dan memiliki generalizability lebih baik dibandingkan Random Forest.\n",
    "\n"
   ]
  },
  {
   "cell_type": "markdown",
   "metadata": {},
   "source": [
    "3. Kesimpulan & Rekomendasi\n"
   ]
  },
  {
   "cell_type": "markdown",
   "metadata": {},
   "source": [
    "Model terbaik berdasarkan tuning: Gradient Boosting Regressor (GBR) karena memiliki RMSE lebih kecil dan R² lebih tinggi.\n",
    "Random Forest tetap kompetitif, tetapi berisiko overfitting karena kedalaman yang tinggi.\n",
    "Jika fokus pada akurasi tinggi dengan data yang kompleks, GBR adalah pilihan terbaik.\n",
    "Jika ingin model lebih cepat dan lebih mudah diinterpretasi, Random Forest bisa tetap digunakan.\n",
    "\n",
    "Rekomendasi selanjutnya:\n",
    "\n",
    "Coba menurunkan learning rate (misalnya 0.05) untuk melihat apakah ada peningkatan lebih lanjut pada GBR.\n",
    "Gunakan Cross-Validation lebih banyak (misalnya 10-fold CV) untuk menguji stabilitas model.\n",
    "Lakukan Feature Engineering lebih lanjut untuk meningkatkan akurasi kedua model."
   ]
  },
  {
   "cell_type": "markdown",
   "metadata": {},
   "source": [
    "model deploy"
   ]
  },
  {
   "cell_type": "code",
   "execution_count": 15,
   "metadata": {},
   "outputs": [
    {
     "name": "stdout",
     "output_type": "stream",
     "text": [
      "Model terbaik (Gradient Boosting) disimpan sebagai 'best_production_model.pkl'\n"
     ]
    }
   ],
   "source": [
    "import joblib\n",
    "\n",
    "# Simpan hasil evaluasi model dalam dictionary\n",
    "tuned_results = {\n",
    "    'Random Forest': {'R2': r2_rf, 'model': best_rf},\n",
    "    'Gradient Boosting': {'R2': r2_gb, 'model': best_gb}\n",
    "}\n",
    "\n",
    "# Pilih model dengan nilai R² tertinggi\n",
    "best_model_name = max(tuned_results, key=lambda k: tuned_results[k]['R2'])\n",
    "best_model = tuned_results[best_model_name]['model']\n",
    "\n",
    "# Simpan model terbaik ke dalam file .pkl\n",
    "joblib.dump(best_model, 'best_production_model.pkl')\n",
    "\n",
    "print(f\"Model terbaik ({best_model_name}) disimpan sebagai 'best_production_model.pkl'\")\n"
   ]
  }
 ],
 "metadata": {
  "kernelspec": {
   "display_name": "base",
   "language": "python",
   "name": "python3"
  },
  "language_info": {
   "codemirror_mode": {
    "name": "ipython",
    "version": 3
   },
   "file_extension": ".py",
   "mimetype": "text/x-python",
   "name": "python",
   "nbconvert_exporter": "python",
   "pygments_lexer": "ipython3",
   "version": "3.12.7"
  }
 },
 "nbformat": 4,
 "nbformat_minor": 2
}
